{
 "cells": [
  {
   "cell_type": "markdown",
   "id": "898a794c",
   "metadata": {},
   "source": [
    "# <center> Alogrithme de tri par fusion : </center>\n",
    "\n",
    "---\n",
    "\n",
    "**Source :** Revue Coding, n°18, p.24-25.\n",
    "\n",
    "**Résumé :**Prend un tableau en entrée, puis divise le tableau complet en sous-tableaux d'éléments uniques. Ensuite, il fusionne tous les tableaux en prenant 2 tableaux à la fois jusqu'à obtenir le tableau final.\n",
    "\n",
    "Equivalent du `list.sort()`\n",
    "\n",
    "---\n",
    "\n",
    "## Code"
   ]
  },
  {
   "cell_type": "code",
   "execution_count": 24,
   "id": "02bd64a1",
   "metadata": {},
   "outputs": [],
   "source": [
    "def merge(listA, listB):\n",
    "    newlist = list()\n",
    "    a = 0\n",
    "    b = 0\n",
    "    while a < len(listA) and b < len(listB):\n",
    "        if listA[a] < listB[b]:\n",
    "            newlist.append(listA[a])\n",
    "            a += 1\n",
    "        else :\n",
    "            newlist.append(listB[b])\n",
    "            b += 1\n",
    "    while a < len(listA):\n",
    "        newlist.append(listA[a])\n",
    "        a += 1\n",
    "    while b < len(listB):\n",
    "        newlist.append(listB[b])\n",
    "        b += 1\n",
    "            \n",
    "    return newlist\n",
    "    \n",
    "def merge_sort(input_list):\n",
    "    if len(input_list) <= 1 :\n",
    "        return input_list\n",
    "    else :\n",
    "        mid = len(input_list) // 2\n",
    "        left = merge_sort(input_list[:mid])\n",
    "        right = merge_sort(input_list[mid:])\n",
    "        newlist = merge(left, right)\n",
    "    return newlist"
   ]
  },
  {
   "cell_type": "code",
   "execution_count": 27,
   "id": "1ce08777",
   "metadata": {},
   "outputs": [
    {
     "name": "stdout",
     "output_type": "stream",
     "text": [
      "[20, 32, 34, 43, 45, 56, 67, 89, 90, 100]\n"
     ]
    }
   ],
   "source": [
    "a = [56, 89, 45, 34, 90, 32, 20, 67, 43, 100]\n",
    "print(merge_sort(a))"
   ]
  }
 ],
 "metadata": {
  "kernelspec": {
   "display_name": "Python 3 (ipykernel)",
   "language": "python",
   "name": "python3"
  },
  "language_info": {
   "codemirror_mode": {
    "name": "ipython",
    "version": 3
   },
   "file_extension": ".py",
   "mimetype": "text/x-python",
   "name": "python",
   "nbconvert_exporter": "python",
   "pygments_lexer": "ipython3",
   "version": "3.8.3"
  }
 },
 "nbformat": 4,
 "nbformat_minor": 5
}
