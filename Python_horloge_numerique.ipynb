{
 "cells": [
  {
   "cell_type": "markdown",
   "id": "72148795",
   "metadata": {},
   "source": [
    "# <center> Coder une horloge numérique avec Python</center>\n",
    "\n",
    "**Source :** \n",
    "\n",
    "- Revue Coding, n°18, p.23-24.\n",
    "- How To Make A Digital Clock in Python : https://python.plainenglish.io/make-a-digital-clock-using-python-and-tkinter-a463aa8c19e1\n",
    "    \n",
    "**Objectif :** Créer une horloge avec l'application graphique **Tkinter**. "
   ]
  },
  {
   "cell_type": "code",
   "execution_count": 124,
   "id": "3997f4dd",
   "metadata": {},
   "outputs": [],
   "source": [
    "import tkinter, tk\n",
    "import time\n",
    "\n",
    "# titre/taille de la fenêtre\n",
    "fenetre = Tk()\n",
    "fenetre.title(\"Horloge numérique avec Python\")\n",
    "fenetre.geometry(\"480x200\")\n",
    "# fonction redimensionnable (pour une fenêtre fixe = True(1,1))\n",
    "fenetre.resizable(1,1)\n",
    "\n",
    "# police d'écriture\n",
    "text_font = (\"Noto Serif\", 80, 'bold')\n",
    "# Autre exemple de police : System, Modern, Script, Consolas, Rubik, Agency FB...\n",
    "# couleur arrière-plan\n",
    "background = \"#000000\"\n",
    "# couleur police\n",
    "foreground = \"#f8f8ff\"\n",
    "# largeur de bordure\n",
    "border_width = 30 \n",
    "\n",
    "# Label de l'application\n",
    "label = Label(fenetre, font=text_font, bg=background, fg=foreground, bd=border_width)\n",
    "# ajout d'une grille\n",
    "label.grid(row=0, column=1)\n",
    "\n",
    "\n",
    "# fonction principale :\n",
    "def horloge_numerique():\n",
    "    time_live = time.strftime(\"%H:%M:%S\")\n",
    "    label.config(text=time_live)\n",
    "    label.after(200, horloge_numerique)\n",
    "\n",
    "# Lancement de l'application\n",
    "horloge_numerique()\n",
    "fenetre.mainloop()"
   ]
  },
  {
   "cell_type": "markdown",
   "id": "24c6201c",
   "metadata": {},
   "source": [
    "## Lister les types de police dans Tkinter"
   ]
  },
  {
   "cell_type": "code",
   "execution_count": 16,
   "id": "131773d1",
   "metadata": {},
   "outputs": [
    {
     "name": "stdout",
     "output_type": "stream",
     "text": [
      "['System', '8514oem', 'Fixedsys', 'Terminal', 'Modern', 'Roman', 'Script', 'Courier', 'MS Serif', 'MS Sans Serif', 'Small Fonts', 'TeamViewer15', 'Nachlieli CLM', 'Frank Ruhl Hofshi', 'Miriam Libre', 'Marlett', 'Arial', 'Arabic Transparent', 'Arial Baltic', 'Arial CE', 'Arial CYR', 'Arial Greek', 'Arial TUR', 'Arial Black', 'Bahnschrift Light', 'Bahnschrift SemiLight', 'Bahnschrift', 'Bahnschrift SemiBold', 'Bahnschrift Light SemiCondensed', 'Bahnschrift SemiLight SemiConde', 'Bahnschrift SemiCondensed', 'Bahnschrift SemiBold SemiConden', 'Bahnschrift Light Condensed', 'Bahnschrift SemiLight Condensed', 'Bahnschrift Condensed', 'Bahnschrift SemiBold Condensed', 'Calibri', 'Calibri Light', 'Cambria', 'Cambria Math', 'Candara', 'Candara Light', 'Comic Sans MS', 'Consolas', 'Constantia', 'Corbel', 'Corbel Light', 'Courier New', 'Courier New Baltic', 'Courier New CE', 'Courier New CYR', 'Courier New Greek', 'Courier New TUR', 'Ebrima', 'Franklin Gothic Medium', 'Gabriola', 'Gadugi', 'Georgia', 'Impact', 'Ink Free', 'Javanese Text', 'Leelawadee UI', 'Leelawadee UI Semilight', 'Lucida Console', 'Lucida Sans Unicode', 'Malgun Gothic', '@Malgun Gothic', 'Malgun Gothic Semilight', '@Malgun Gothic Semilight', 'Microsoft Himalaya', 'Microsoft JhengHei', '@Microsoft JhengHei', 'Microsoft JhengHei UI', '@Microsoft JhengHei UI', 'Microsoft JhengHei Light', '@Microsoft JhengHei Light', 'Microsoft JhengHei UI Light', '@Microsoft JhengHei UI Light', 'Microsoft New Tai Lue', 'Microsoft PhagsPa', 'Microsoft Sans Serif', 'Microsoft Tai Le', 'Microsoft YaHei', '@Microsoft YaHei', 'Microsoft YaHei UI', '@Microsoft YaHei UI', 'Microsoft YaHei Light', '@Microsoft YaHei Light', 'Microsoft YaHei UI Light', '@Microsoft YaHei UI Light', 'Microsoft Yi Baiti', 'MingLiU-ExtB', '@MingLiU-ExtB', 'PMingLiU-ExtB', '@PMingLiU-ExtB', 'MingLiU_HKSCS-ExtB', '@MingLiU_HKSCS-ExtB', 'Mongolian Baiti', 'MS Gothic', '@MS Gothic', 'MS UI Gothic', '@MS UI Gothic', 'MS PGothic', '@MS PGothic', 'MV Boli', 'Myanmar Text', 'Nirmala UI', 'Nirmala UI Semilight', 'Palatino Linotype', 'Segoe MDL2 Assets', 'Segoe Print', 'Segoe Script', 'Segoe UI', 'Segoe UI Black', 'Segoe UI Emoji', 'Segoe UI Historic', 'Segoe UI Light', 'Segoe UI Semibold', 'Segoe UI Semilight', 'Segoe UI Symbol', 'SimSun', '@SimSun', 'NSimSun', '@NSimSun', 'SimSun-ExtB', '@SimSun-ExtB', 'Sitka Small', 'Sitka Text', 'Sitka Subheading', 'Sitka Heading', 'Sitka Display', 'Sitka Banner', 'Sylfaen', 'Symbol', 'Tahoma', 'Times New Roman', 'Times New Roman Baltic', 'Times New Roman CE', 'Times New Roman CYR', 'Times New Roman Greek', 'Times New Roman TUR', 'Trebuchet MS', 'Verdana', 'Webdings', 'Wingdings', 'Yu Gothic', '@Yu Gothic', 'Yu Gothic UI', '@Yu Gothic UI', 'Yu Gothic UI Semibold', '@Yu Gothic UI Semibold', 'Yu Gothic Light', '@Yu Gothic Light', 'Yu Gothic UI Light', '@Yu Gothic UI Light', 'Yu Gothic Medium', '@Yu Gothic Medium', 'Yu Gothic UI Semilight', '@Yu Gothic UI Semilight', 'HoloLens MDL2 Assets', 'Arial Unicode MS', '@Arial Unicode MS', 'Century', 'Meiryo', '@Meiryo', 'Meiryo UI', '@Meiryo UI', 'Wingdings 2', 'Wingdings 3', 'Book Antiqua', 'Century Gothic', 'Garamond', 'Monotype Corsiva', 'Algerian', 'Baskerville Old Face', 'Bauhaus 93', 'Bell MT', 'Berlin Sans FB', 'Bernard MT Condensed', 'Bodoni MT Poster Compressed', 'Britannic Bold', 'Broadway', 'Brush Script MT', 'Californian FB', 'Centaur', 'Chiller', 'Colonna MT', 'Cooper Black', 'Footlight MT Light', 'Freestyle Script', 'Harlow Solid Italic', 'Harrington', 'High Tower Text', 'Jokerman', 'Juice ITC', 'Kristen ITC', 'Kunstler Script', 'Lucida Bright', 'Lucida Calligraphy', 'Lucida Fax', 'Lucida Handwriting', 'Magneto', 'Matura MT Script Capitals', 'Mistral', 'Modern No. 20', 'Niagara Engraved', 'Niagara Solid', 'Old English Text MT', 'Onyx', 'Parchment', 'Playbill', 'Poor Richard', 'Ravie', 'Informal Roman', 'Showcard Gothic', 'Snap ITC', 'Stencil', 'Tempus Sans ITC', 'Viner Hand ITC', 'Vivaldi', 'Vladimir Script', 'Wide Latin', 'Pristina', 'Papyrus', 'French Script MT', 'Bradley Hand ITC', 'Bookman Old Style', 'Berlin Sans FB Demi', 'Arial Narrow', 'MT Extra', 'Haettenschweiler', 'Tw Cen MT', 'Tw Cen MT Condensed', 'Script MT Bold', 'Rockwell Extra Bold', 'Rockwell Condensed', 'Rockwell', 'Rage Italic', 'Perpetua Titling MT', 'Perpetua', 'Palace Script MT', 'OCR A Extended', 'Maiandra GD', 'Lucida Sans Typewriter', 'Lucida Sans', 'Imprint MT Shadow', 'Goudy Stout', 'Goudy Old Style', 'Gloucester MT Extra Condensed', 'Gill Sans Ultra Bold Condensed', 'Gill Sans Ultra Bold', 'Gill Sans MT Condensed', 'Gill Sans MT', 'Gill Sans MT Ext Condensed Bold', 'Gigi', 'Franklin Gothic Medium Cond', 'Franklin Gothic Heavy', 'Franklin Gothic Demi Cond', 'Franklin Gothic Demi', 'Franklin Gothic Book', 'Forte', 'Felix Titling', 'Eras Medium ITC', 'Eras Light ITC', 'Eras Demi ITC', 'Eras Bold ITC', 'Engravers MT', 'Elephant', 'Edwardian Script ITC', 'Curlz MT', 'Copperplate Gothic Light', 'Copperplate Gothic Bold', 'Century Schoolbook', 'Castellar', 'Calisto MT', 'Bodoni MT Condensed', 'Bodoni MT Black', 'Bodoni MT', 'Blackadder ITC', 'Arial Rounded MT Bold', 'Agency FB', 'Tw Cen MT Condensed Extra Bold', 'Bookshelf Symbol 7', 'Dubai', 'Dubai Light', 'Dubai Medium', 'Leelawadee', 'Microsoft Uighur', 'MS Reference Sans Serif', 'MS Reference Specialty', 'Amiri', 'Scheherazade', 'OpenSymbol', 'Liberation Mono', 'KacstBook', 'EmojiOne Color', 'Source Serif Pro Black', 'Linux Biolinum G', 'Carlito', 'David CLM', 'Source Code Pro Black', 'DejaVu Math TeX Gyre', 'Noto Kufi Arabic', 'Reem Kufi', 'Source Sans Pro Black', 'Gentium Basic', 'Alef', 'David Libre', 'Liberation Sans Narrow', 'Caladea', 'Amiri Quran', 'Frank Ruehl CLM', 'Miriam CLM', 'Miriam Mono CLM', 'DejaVu Sans', 'DejaVu Sans Light', 'DejaVu Sans Condensed', 'DejaVu Sans Mono', 'DejaVu Serif', 'DejaVu Serif Condensed', 'Gentium Book Basic', 'KacstOffice', 'Liberation Sans', 'Liberation Serif', 'Linux Libertine Display G', 'Linux Libertine G', 'Rubik', 'Noto Mono', 'Noto Naskh Arabic', 'Noto Naskh Arabic UI', 'Noto Sans', 'Noto Sans Cond', 'Noto Sans Light', 'Noto Sans Arabic', 'Noto Sans Arabic UI', 'Noto Sans Armenian', 'Noto Sans Georgian', 'Noto Sans Hebrew', 'Noto Sans Lao', 'Noto Sans Lisu', 'Noto Serif', 'Noto Serif Cond', 'Noto Serif Light', 'Noto Serif Armenian', 'Noto Serif Georgian', 'Noto Serif Hebrew', 'Noto Serif Lao', 'Source Code Pro', 'Source Code Pro ExtraLight', 'Source Code Pro Light', 'Source Code Pro Medium', 'Source Code Pro Semibold', 'Source Sans Pro', 'Source Sans Pro ExtraLight', 'Source Sans Pro Light', 'Source Sans Pro Semibold', 'Source Serif Pro', 'Source Serif Pro ExtraLight', 'Source Serif Pro Light', 'Source Serif Pro Semibold', 'MS Outlook']\n"
     ]
    }
   ],
   "source": [
    "import tkinter as tk\n",
    "import tkinter.font as tkFont\n",
    "\n",
    "print(list(tkFont.families()))"
   ]
  },
  {
   "cell_type": "code",
   "execution_count": null,
   "id": "a0c6c73d",
   "metadata": {},
   "outputs": [],
   "source": []
  }
 ],
 "metadata": {
  "kernelspec": {
   "display_name": "Python 3 (ipykernel)",
   "language": "python",
   "name": "python3"
  },
  "language_info": {
   "codemirror_mode": {
    "name": "ipython",
    "version": 3
   },
   "file_extension": ".py",
   "mimetype": "text/x-python",
   "name": "python",
   "nbconvert_exporter": "python",
   "pygments_lexer": "ipython3",
   "version": "3.8.3"
  }
 },
 "nbformat": 4,
 "nbformat_minor": 5
}
