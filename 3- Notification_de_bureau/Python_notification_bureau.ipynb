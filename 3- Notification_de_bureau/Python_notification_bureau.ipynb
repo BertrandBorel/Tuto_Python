{
 "cells": [
  {
   "cell_type": "markdown",
   "id": "0adfa14d",
   "metadata": {},
   "source": [
    "# <center> Créer une notification de bureau avec Python </center>\n",
    "\n",
    "**Sources :** \n",
    "- revue Coding, n°18, p.23-24.\n",
    "- Python Desktop Notifier using Plyer module : https://www.geeksforgeeks.org/python-desktop-notifier-using-plyer-module/\n",
    "- Windows Desktop Notifications in Python : https://www.devdungeon.com/content/windows-desktop-notifications-python\n",
    "\n",
    "Nécessite la bibliothèque **Plyer** (`pip install plyer`) qui accède aux composants matériels du système.\n",
    "\n",
    "**Peut-être lancé à la fin d'un programme en Pyhton (ex: web scraping).**"
   ]
  },
  {
   "cell_type": "markdown",
   "id": "dd970369",
   "metadata": {},
   "source": [
    "## Exemple :"
   ]
  },
  {
   "cell_type": "code",
   "execution_count": 19,
   "id": "64cd6e18",
   "metadata": {},
   "outputs": [],
   "source": [
    "import time\n",
    "from plyer import notification \n",
    "    \n",
    "# lance une notification    \n",
    "notification.notify(\n",
    "        title =  \"titre de la notification\",\n",
    "        message = \"description personnalisée\",\n",
    "        # Nom de l'application lançant cette notification\n",
    "        # app_name = 'app_name',\n",
    "        # Icône à afficher avec le message\n",
    "        # app_icon = 'file_name'\n",
    "        # durée d'affichage du message (par défaut : 10)\n",
    "        timeout = 10\n",
    "        )"
   ]
  },
  {
   "cell_type": "markdown",
   "id": "8fd1c79c",
   "metadata": {},
   "source": [
    "## Exemple dans une boucle `while` :"
   ]
  },
  {
   "cell_type": "code",
   "execution_count": null,
   "id": "eaac2cda",
   "metadata": {},
   "outputs": [],
   "source": [
    "import time\n",
    "from plyer import notification\n",
    "\n",
    "\n",
    "if __name__ == \"__main__\":\n",
    "    while True :\n",
    "        notification.notify(\n",
    "        title =  \"titre de la notification\",\n",
    "        message = \"description personnalisée\",\n",
    "        timeout = 10\n",
    "        )\n",
    "        \n",
    "        # définir l'intervalle de temps entre chaque répétition\n",
    "        time.sleep(10) # ici toutes les 10 secondes"
   ]
  },
  {
   "cell_type": "markdown",
   "id": "b6d32f16",
   "metadata": {},
   "source": [
    "## Exemple : Envoyer un message de repos toutes les heures"
   ]
  },
  {
   "cell_type": "code",
   "execution_count": null,
   "id": "453d2c42",
   "metadata": {},
   "outputs": [],
   "source": [
    "import time\n",
    "from plyer import notification\n",
    "\n",
    "if __name__ == \"__main__\":\n",
    "    while True :\n",
    "        notification.notify(\n",
    "        title =  \"Heure écoulée !\",\n",
    "        message = \"Il est temps de prendre un peu de repos...\",\n",
    "        timeout = 1\n",
    "        )\n",
    "        \n",
    "        time.sleep(60)"
   ]
  }
 ],
 "metadata": {
  "kernelspec": {
   "display_name": "Python 3 (ipykernel)",
   "language": "python",
   "name": "python3"
  },
  "language_info": {
   "codemirror_mode": {
    "name": "ipython",
    "version": 3
   },
   "file_extension": ".py",
   "mimetype": "text/x-python",
   "name": "python",
   "nbconvert_exporter": "python",
   "pygments_lexer": "ipython3",
   "version": "3.8.3"
  }
 },
 "nbformat": 4,
 "nbformat_minor": 5
}
