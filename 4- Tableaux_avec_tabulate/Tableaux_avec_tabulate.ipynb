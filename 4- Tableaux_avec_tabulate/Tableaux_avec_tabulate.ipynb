{
 "cells": [
  {
   "cell_type": "markdown",
   "id": "e24708a5",
   "metadata": {},
   "source": [
    "# <center> Mettre en forme des tableaux de données avec Python </center>\n",
    "\n",
    "**Sources :** \n",
    "- revue Coding, n°18, p.26-27.\n",
    "- Beginners Guide To Tabulate: https://analyticsindiamag.com/beginners-guide-to-tabulate-python-tool-for-creating-nicely-formatted-tables/\n",
    "- documentation pypi : https://pypi.org/project/tabulate/\n",
    "\n",
    "**Objectif :**  Représenter des données sous forme de tableaux grâce au module **tabulate** (`pip install tabulate`)."
   ]
  },
  {
   "cell_type": "code",
   "execution_count": 35,
   "id": "840b4446",
   "metadata": {},
   "outputs": [],
   "source": [
    "from tabulate import tabulate \n",
    "\n",
    "poesie = [[\"Auteur\", \"Titre\", \"Date\"],\n",
    "       [\"HUGO V.\", \"Les Contemplations\", 1856],\n",
    "       [\"ARAGON L.\", \"Les Yeux d'Elsa\", 1942],\n",
    "       [\"CHAR R.\", \"Le Marteau sans maître\", 1934]]"
   ]
  },
  {
   "cell_type": "markdown",
   "id": "8ffa71aa",
   "metadata": {},
   "source": [
    "## Avec `tabulate` :"
   ]
  },
  {
   "cell_type": "code",
   "execution_count": 36,
   "id": "bbdd13a3",
   "metadata": {},
   "outputs": [
    {
     "name": "stdout",
     "output_type": "stream",
     "text": [
      "---------  ----------------------  ----\n",
      "Auteur     Titre                   Date\n",
      "HUGO V.    Les Contemplations      1856\n",
      "ARAGON L.  Les Yeux d'Elsa         1942\n",
      "CHAR R.    Le Marteau sans maître  1934\n",
      "---------  ----------------------  ----\n"
     ]
    }
   ],
   "source": [
    "print(tabulate(poesie))"
   ]
  },
  {
   "cell_type": "markdown",
   "id": "57f07570",
   "metadata": {},
   "source": [
    "## Sans le module :"
   ]
  },
  {
   "cell_type": "code",
   "execution_count": 37,
   "id": "b271d0a0",
   "metadata": {},
   "outputs": [
    {
     "name": "stdout",
     "output_type": "stream",
     "text": [
      "[['Auteur', 'Titre', 'Date'], ['HUGO V.', 'Les Contemplations', 1856], ['ARAGON L.', \"Les Yeux d'Elsa\", 1942], ['CHAR R.', 'Le Marteau sans maître', 1934]]\n"
     ]
    }
   ],
   "source": [
    "print(poesie)"
   ]
  },
  {
   "cell_type": "markdown",
   "id": "c6455a16",
   "metadata": {},
   "source": [
    "## Séparer les en-têtes :"
   ]
  },
  {
   "cell_type": "code",
   "execution_count": 39,
   "id": "4b6a9c6d",
   "metadata": {},
   "outputs": [
    {
     "name": "stdout",
     "output_type": "stream",
     "text": [
      "Auteur     Titre                     Date\n",
      "---------  ----------------------  ------\n",
      "HUGO V.    Les Contemplations        1856\n",
      "ARAGON L.  Les Yeux d'Elsa           1942\n",
      "CHAR R.    Le Marteau sans maître    1934\n"
     ]
    }
   ],
   "source": [
    "print(tabulate(poesie, headers='firstrow'))"
   ]
  },
  {
   "cell_type": "markdown",
   "id": "25c8d198",
   "metadata": {},
   "source": [
    "## Afficher l'index :"
   ]
  },
  {
   "cell_type": "code",
   "execution_count": 48,
   "id": "7d7a95ae",
   "metadata": {
    "scrolled": true
   },
   "outputs": [
    {
     "name": "stdout",
     "output_type": "stream",
     "text": [
      "    Auteur     Titre                     Date\n",
      "--  ---------  ----------------------  ------\n",
      " 0  HUGO V.    Les Contemplations        1856\n",
      " 1  ARAGON L.  Les Yeux d'Elsa           1942\n",
      " 2  CHAR R.    Le Marteau sans maître    1934\n"
     ]
    }
   ],
   "source": [
    "print(tabulate(poesie, headers='firstrow', showindex=\"always\"))"
   ]
  },
  {
   "cell_type": "markdown",
   "id": "9e12bb6c",
   "metadata": {},
   "source": [
    "## Ajouter une grille :"
   ]
  },
  {
   "cell_type": "code",
   "execution_count": 41,
   "id": "16e6805d",
   "metadata": {},
   "outputs": [
    {
     "name": "stdout",
     "output_type": "stream",
     "text": [
      "+-----------+------------------------+--------+\n",
      "| Auteur    | Titre                  |   Date |\n",
      "+===========+========================+========+\n",
      "| HUGO V.   | Les Contemplations     |   1856 |\n",
      "+-----------+------------------------+--------+\n",
      "| ARAGON L. | Les Yeux d'Elsa        |   1942 |\n",
      "+-----------+------------------------+--------+\n",
      "| CHAR R.   | Le Marteau sans maître |   1934 |\n",
      "+-----------+------------------------+--------+\n"
     ]
    }
   ],
   "source": [
    "print(tabulate(poesie, headers='firstrow', tablefmt='grid'))"
   ]
  },
  {
   "cell_type": "markdown",
   "id": "d8aaf8d4",
   "metadata": {},
   "source": [
    "## Grille pleine :"
   ]
  },
  {
   "cell_type": "code",
   "execution_count": 42,
   "id": "4207df08",
   "metadata": {},
   "outputs": [
    {
     "name": "stdout",
     "output_type": "stream",
     "text": [
      "╒═══════════╤════════════════════════╤════════╕\n",
      "│ Auteur    │ Titre                  │   Date │\n",
      "╞═══════════╪════════════════════════╪════════╡\n",
      "│ HUGO V.   │ Les Contemplations     │   1856 │\n",
      "├───────────┼────────────────────────┼────────┤\n",
      "│ ARAGON L. │ Les Yeux d'Elsa        │   1942 │\n",
      "├───────────┼────────────────────────┼────────┤\n",
      "│ CHAR R.   │ Le Marteau sans maître │   1934 │\n",
      "╘═══════════╧════════════════════════╧════════╛\n"
     ]
    }
   ],
   "source": [
    "print(tabulate(poesie, headers='firstrow', tablefmt='fancy_grid'))"
   ]
  },
  {
   "cell_type": "markdown",
   "id": "fe77f322",
   "metadata": {},
   "source": [
    "## Autres styles :"
   ]
  },
  {
   "cell_type": "code",
   "execution_count": 44,
   "id": "e72f1198",
   "metadata": {},
   "outputs": [
    {
     "name": "stdout",
     "output_type": "stream",
     "text": [
      "|| Auteur    || Titre                  ||   Date ||\n",
      "| HUGO V.   | Les Contemplations     |   1856 |\n",
      "| ARAGON L. | Les Yeux d'Elsa        |   1942 |\n",
      "| CHAR R.   | Le Marteau sans maître |   1934 |\n"
     ]
    }
   ],
   "source": [
    "print(tabulate(poesie, headers='firstrow', tablefmt='jira'))"
   ]
  },
  {
   "cell_type": "code",
   "execution_count": 53,
   "id": "21176f98",
   "metadata": {},
   "outputs": [
    {
     "name": "stdout",
     "output_type": "stream",
     "text": [
      "+-----------+------------------------+------+\n",
      "|  Auteur   |         Titre          | Date |\n",
      "+-----------+------------------------+------+\n",
      "|  HUGO V.  |   Les Contemplations   | 1856 |\n",
      "| ARAGON L. |    Les Yeux d'Elsa     | 1942 |\n",
      "|  CHAR R.  | Le Marteau sans maître | 1934 |\n",
      "+-----------+------------------------+------+\n"
     ]
    }
   ],
   "source": [
    "print(tabulate(poesie, headers='firstrow', tablefmt='pretty'))"
   ]
  },
  {
   "cell_type": "code",
   "execution_count": 46,
   "id": "b95e1dbf",
   "metadata": {},
   "outputs": [
    {
     "name": "stdout",
     "output_type": "stream",
     "text": [
      "|_.  Auteur    |_. Titre                  |_.   Date |\n",
      "|<. HUGO V.    |<. Les Contemplations     |>.   1856 |\n",
      "|<. ARAGON L.  |<. Les Yeux d'Elsa        |>.   1942 |\n",
      "|<. CHAR R.    |<. Le Marteau sans maître |>.   1934 |\n"
     ]
    }
   ],
   "source": [
    "print(tabulate(poesie, headers='firstrow', tablefmt='textile'))"
   ]
  },
  {
   "cell_type": "markdown",
   "id": "63455cef",
   "metadata": {},
   "source": [
    "## Liste des styles :\n",
    "- \"plain\"\n",
    "- \"simple\"\n",
    "- \"github\"\n",
    "- \"grid\"\n",
    "- \"fancy_grid\"\n",
    "- \"pipe\"\n",
    "- \"orgtbl\"\n",
    "- \"jira\"\n",
    "- \"presto\"\n",
    "- \"pretty\"\n",
    "- \"psql\"\n",
    "- \"rst\"\n",
    "- \"mediawiki\"\n",
    "- \"moinmoin\"\n",
    "- \"youtrack\"\n",
    "- \"html\"\n",
    "- \"unsafehtml\"\n",
    "- \"latex\"\n",
    "- \"latex_raw\"\n",
    "- \"latex_booktabs\"\n",
    "- \"latex_longtable\"\n",
    "- \"textile\"\n",
    "- \"tsv\""
   ]
  },
  {
   "cell_type": "markdown",
   "id": "8dc54598",
   "metadata": {},
   "source": [
    "---"
   ]
  }
 ],
 "metadata": {
  "kernelspec": {
   "display_name": "Python 3 (ipykernel)",
   "language": "python",
   "name": "python3"
  },
  "language_info": {
   "codemirror_mode": {
    "name": "ipython",
    "version": 3
   },
   "file_extension": ".py",
   "mimetype": "text/x-python",
   "name": "python",
   "nbconvert_exporter": "python",
   "pygments_lexer": "ipython3",
   "version": "3.8.3"
  }
 },
 "nbformat": 4,
 "nbformat_minor": 5
}
